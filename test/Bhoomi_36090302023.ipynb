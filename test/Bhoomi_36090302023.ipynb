{
 "cells": [
  {
   "cell_type": "code",
   "execution_count": 1,
   "id": "961f1c7e-af8a-4789-869b-a47cef975d7c",
   "metadata": {},
   "outputs": [],
   "source": [
    "# ans 1 : list :[], list are mutable  \n",
    "         # tuple: () , tuple are immutable \n"
   ]
  },
  {
   "cell_type": "code",
   "execution_count": 2,
   "id": "22e7fa25-264e-484f-a2dd-2119d0868dc7",
   "metadata": {},
   "outputs": [
    {
     "name": "stdout",
     "output_type": "stream",
     "text": [
      "[2, 3, 4]\n"
     ]
    }
   ],
   "source": [
    " list =[2,3,4]\n",
    "print(list)"
   ]
  },
  {
   "cell_type": "code",
   "execution_count": 3,
   "id": "4440ab9a-36ed-49fd-a7da-0f77c038beca",
   "metadata": {},
   "outputs": [
    {
     "name": "stdout",
     "output_type": "stream",
     "text": [
      "(4, 5, 2)\n"
     ]
    }
   ],
   "source": [
    "tup =(4,5,2)\n",
    "print(tup)"
   ]
  },
  {
   "cell_type": "code",
   "execution_count": 4,
   "id": "0b995f41-8620-4bf4-bdd1-13702d311717",
   "metadata": {},
   "outputs": [
    {
     "name": "stdin",
     "output_type": "stream",
     "text": [
      "enter a no 6\n"
     ]
    }
   ],
   "source": [
    "# ans 2 \n",
    "no = int(input(\"enter a no\"))"
   ]
  },
  {
   "cell_type": "code",
   "execution_count": 5,
   "id": "9fffb575-3e79-43ba-b136-3a701b618201",
   "metadata": {},
   "outputs": [
    {
     "name": "stdout",
     "output_type": "stream",
     "text": [
      "{'name': 'bhoomi', 'roll no': 34, 'sec': 'm2'}\n"
     ]
    }
   ],
   "source": [
    "#ans 3 \n",
    "# dictionary are included the key value pairs , {} , \n",
    "dict ={'name':'bhoomi',\n",
    "       'roll no':34,\n",
    "       'sec':'m2'}\n",
    "print(dict)\n"
   ]
  },
  {
   "cell_type": "code",
   "execution_count": 12,
   "id": "5ff14e16-0dbc-4dee-8aa1-15eaa87a9513",
   "metadata": {},
   "outputs": [
    {
     "name": "stdout",
     "output_type": "stream",
     "text": [
      "1\n",
      "2\n",
      "3\n",
      "4\n",
      "5\n"
     ]
    }
   ],
   "source": [
    "# Q4\n",
    "n=5\n",
    "for i in range (1,6):\n",
    "    print(i)\n"
   ]
  },
  {
   "cell_type": "code",
   "execution_count": 8,
   "id": "2d876690-46e0-49a1-9a37-ce6954625a6a",
   "metadata": {},
   "outputs": [
    {
     "name": "stdout",
     "output_type": "stream",
     "text": [
      "you can vote\n"
     ]
    }
   ],
   "source": [
    "# Q5 exception handling is bascially used o perform the (try - bascially perform the function if it contains an error then use except  and except as a invaild code  )  and\n",
    "#finally is excuted at the end . \n",
    "age =18\n",
    "try:\n",
    "    if age>=18:\n",
    "        print('you can vote')\n",
    "    else:\n",
    "        print(' you cannot vote')\n",
    "except:\n",
    "    print(' invaild code')"
   ]
  },
  {
   "cell_type": "code",
   "execution_count": 76,
   "id": "a0c0a32e-1946-441e-80bc-3632156d9839",
   "metadata": {},
   "outputs": [
    {
     "name": "stdout",
     "output_type": "stream",
     "text": [
      "50.26548245743669\n",
      "2.0\n"
     ]
    }
   ],
   "source": [
    " #  Q6 python modules are bascially the random.randint and random choices and many modules however python is the documented approach and it used many modules \n",
    "# we have more then 500 modules in python \n",
    "import math \n",
    "r =4\n",
    "area = math.pi*r*r\n",
    "print(area)\n",
    "\n",
    "square = math.sqrt(4)\n",
    "print(square)\n",
    "\n",
    "\n"
   ]
  },
  {
   "cell_type": "code",
   "execution_count": null,
   "id": "fc6508ed-1abc-4a49-9b9c-2867051e0ebc",
   "metadata": {},
   "outputs": [],
   "source": [
    "import math"
   ]
  },
  {
   "cell_type": "code",
   "execution_count": 17,
   "id": "c7fa2811-b775-4789-b83b-851343248920",
   "metadata": {},
   "outputs": [],
   "source": [
    "# Q7 # object oriented programming  = bascially it contains the classes and objects , it contain the 4 pillars such as encapsulation , polymorphism , inherotance \n",
    "# abstraction  and in this for eg human is a class and hand , face are the objects this programming srrounds with the real world senarios \n",
    "# classes - is the blueprint of the object  , it is no\n",
    "# object - is the instances of the class \n",
    "\n",
    "class car()  :\n",
    "    def colour(self):\n",
    "        print('colour is the black')\n",
    "\n",
    "\n",
    "\n",
    "\n",
    "    \n",
    "    \n",
    "\n"
   ]
  },
  {
   "cell_type": "code",
   "execution_count": 18,
   "id": "5b09ed5e-35f4-4ad4-b474-fa710fa0f9ba",
   "metadata": {},
   "outputs": [],
   "source": [
    "bmw = car()"
   ]
  },
  {
   "cell_type": "code",
   "execution_count": 19,
   "id": "888db92d-e820-41ad-bf2e-cfa2a396383d",
   "metadata": {},
   "outputs": [
    {
     "name": "stdout",
     "output_type": "stream",
     "text": [
      "colour is the black\n"
     ]
    }
   ],
   "source": [
    "bmw.colour()"
   ]
  },
  {
   "cell_type": "code",
   "execution_count": 21,
   "id": "5f37fc1d-db0e-4892-b8a2-38bb38ff5b71",
   "metadata": {},
   "outputs": [
    {
     "name": "stdout",
     "output_type": "stream",
     "text": [
      "78.5\n"
     ]
    }
   ],
   "source": [
    "radius = 5 \n",
    "pi = 3.14\n",
    "area = pi *radius*radius\n",
    "print(area)"
   ]
  },
  {
   "cell_type": "code",
   "execution_count": 23,
   "id": "4f6a964b-c47e-4feb-bab1-de00d2d8f339",
   "metadata": {},
   "outputs": [
    {
     "name": "stdin",
     "output_type": "stream",
     "text": [
      "enter your name bhoomi\n",
      "enter your age  67\n"
     ]
    },
    {
     "name": "stdout",
     "output_type": "stream",
     "text": [
      "hello bhoomi you are 67 years old \n"
     ]
    }
   ],
   "source": [
    "name = input(\"enter your name\")\n",
    "age = input(\"enter your age \")\n",
    "print(\"hello\",name,\"you are\",age,\"years old \")"
   ]
  },
  {
   "cell_type": "code",
   "execution_count": 27,
   "id": "f6bbe875-a70f-47a4-9ea1-bc2946a74120",
   "metadata": {},
   "outputs": [
    {
     "name": "stdout",
     "output_type": "stream",
     "text": [
      " apple\n",
      "banana\n",
      "mango\n",
      "orange\n",
      "cherry\n"
     ]
    }
   ],
   "source": [
    "list = [ ' apple','banana','mango','orange','cherry']\n",
    "print(list[0])\n",
    "print(list[1])\n",
    "print(list[2])\n",
    "print(list[3])\n",
    "print(list[4])"
   ]
  },
  {
   "cell_type": "code",
   "execution_count": 70,
   "id": "75fc75b8-6348-4709-bd7b-f1e8fd8454a0",
   "metadata": {},
   "outputs": [],
   "source": [
    "def grade_calculator(score):\n",
    "    if 90>=n and n<=100:\n",
    "        return 'A'\n",
    "    elif 80>=n and n<=89:\n",
    "        return 'B'\n",
    "    elif 70<=n and n<=79:\n",
    "        return 'C'\n",
    "    elif 60<=n and n<=69:\n",
    "        return'D'\n",
    "    else:\n",
    "        return'f'\n"
   ]
  },
  {
   "cell_type": "code",
   "execution_count": 73,
   "id": "d6c71204-7e8e-406d-ba82-14db0456a8ee",
   "metadata": {},
   "outputs": [
    {
     "data": {
      "text/plain": [
       "'A'"
      ]
     },
     "execution_count": 73,
     "metadata": {},
     "output_type": "execute_result"
    }
   ],
   "source": [
    "grade_calculator(95)"
   ]
  },
  {
   "cell_type": "code",
   "execution_count": 60,
   "id": "4957f855-9757-41f5-b20f-531d8253a432",
   "metadata": {},
   "outputs": [
    {
     "ename": "SyntaxError",
     "evalue": "unterminated string literal (detected at line 5) (3062691433.py, line 5)",
     "output_type": "error",
     "traceback": [
      "\u001b[1;36m  Cell \u001b[1;32mIn[60], line 5\u001b[1;36m\u001b[0m\n\u001b[1;33m    print(\"\u001b[0m\n\u001b[1;37m          ^\u001b[0m\n\u001b[1;31mSyntaxError\u001b[0m\u001b[1;31m:\u001b[0m unterminated string literal (detected at line 5)\n"
     ]
    }
   ],
   "source": [
    "class BankAccount:\n",
    "    class __init__(self):\n",
    "        self.AccountHolder = 'bhoomi'\n",
    "        self.StartingBalance= 5000\n",
    "\n",
    "    def deposit_money(self):\n",
    "        print(\")\n",
    "              \n",
    "   def withdraw_money(self):\n",
    "       print(\n",
    "    "
   ]
  },
  {
   "cell_type": "code",
   "execution_count": 81,
   "id": "c938df59-9037-4883-8ee4-5715692865ec",
   "metadata": {},
   "outputs": [
    {
     "name": "stdout",
     "output_type": "stream",
     "text": [
      "it is a prime no \n"
     ]
    }
   ],
   "source": [
    "#Q bonus question\n",
    "n = 5\n",
    "for i in range (1,50):\n",
    "    if n%2==0:\n",
    "        print('it is not a prime no')\n",
    "else:\n",
    "    print('it is a prime no ')"
   ]
  },
  {
   "cell_type": "code",
   "execution_count": null,
   "id": "374084e4-61cf-4e5b-82c7-9cb422611708",
   "metadata": {},
   "outputs": [],
   "source": []
  }
 ],
 "metadata": {
  "kernelspec": {
   "display_name": "Python [conda env:anaconda3] *",
   "language": "python",
   "name": "conda-env-anaconda3-py"
  },
  "language_info": {
   "codemirror_mode": {
    "name": "ipython",
    "version": 3
   },
   "file_extension": ".py",
   "mimetype": "text/x-python",
   "name": "python",
   "nbconvert_exporter": "python",
   "pygments_lexer": "ipython3",
   "version": "3.13.5"
  }
 },
 "nbformat": 4,
 "nbformat_minor": 5
}

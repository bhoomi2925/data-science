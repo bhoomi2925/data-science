{
 "cells": [
  {
   "cell_type": "code",
   "execution_count": 5,
   "id": "416b9557-925c-4d75-9d39-ec04b80b7ca6",
   "metadata": {},
   "outputs": [
    {
     "name": "stdout",
     "output_type": "stream",
     "text": [
      "Collecting gTTS\n",
      "  Using cached gTTS-2.5.4-py3-none-any.whl.metadata (4.1 kB)\n",
      "Requirement already satisfied: requests<3,>=2.27 in c:\\programdata\\anaconda3\\lib\\site-packages (from gTTS) (2.32.3)\n",
      "Requirement already satisfied: click<8.2,>=7.1 in c:\\programdata\\anaconda3\\lib\\site-packages (from gTTS) (8.1.8)\n",
      "Requirement already satisfied: colorama in c:\\programdata\\anaconda3\\lib\\site-packages (from click<8.2,>=7.1->gTTS) (0.4.6)\n",
      "Requirement already satisfied: charset-normalizer<4,>=2 in c:\\programdata\\anaconda3\\lib\\site-packages (from requests<3,>=2.27->gTTS) (3.3.2)\n",
      "Requirement already satisfied: idna<4,>=2.5 in c:\\programdata\\anaconda3\\lib\\site-packages (from requests<3,>=2.27->gTTS) (3.7)\n",
      "Requirement already satisfied: urllib3<3,>=1.21.1 in c:\\programdata\\anaconda3\\lib\\site-packages (from requests<3,>=2.27->gTTS) (2.3.0)\n",
      "Requirement already satisfied: certifi>=2017.4.17 in c:\\programdata\\anaconda3\\lib\\site-packages (from requests<3,>=2.27->gTTS) (2025.6.15)\n",
      "Using cached gTTS-2.5.4-py3-none-any.whl (29 kB)\n",
      "Installing collected packages: gTTS\n",
      "Successfully installed gTTS-2.5.4\n",
      "Note: you may need to restart the kernel to use updated packages.\n"
     ]
    }
   ],
   "source": [
    "pip install gTTS"
   ]
  },
  {
   "cell_type": "code",
   "execution_count": 1,
   "id": "449913ea-2100-44f1-a3b6-e455f40fd1d7",
   "metadata": {},
   "outputs": [
    {
     "ename": "ModuleNotFoundError",
     "evalue": "No module named 'gtts'",
     "output_type": "error",
     "traceback": [
      "\u001b[1;31m---------------------------------------------------------------------------\u001b[0m",
      "\u001b[1;31mModuleNotFoundError\u001b[0m                       Traceback (most recent call last)",
      "Cell \u001b[1;32mIn[1], line 1\u001b[0m\n\u001b[1;32m----> 1\u001b[0m \u001b[38;5;28;01mfrom\u001b[39;00m\u001b[38;5;250m \u001b[39m\u001b[38;5;21;01mgtts\u001b[39;00m\u001b[38;5;250m \u001b[39m\u001b[38;5;28;01mimport\u001b[39;00m gTTS\n\u001b[0;32m      2\u001b[0m \u001b[38;5;28;01mdef\u001b[39;00m\u001b[38;5;250m \u001b[39m\u001b[38;5;21msound_box\u001b[39m(paisa,platform \u001b[38;5;241m=\u001b[39m \u001b[38;5;124m'\u001b[39m\u001b[38;5;124mPaytm\u001b[39m\u001b[38;5;124m'\u001b[39m):\n\u001b[0;32m      3\u001b[0m     text  \u001b[38;5;241m=\u001b[39m \u001b[38;5;124mf\u001b[39m\u001b[38;5;124m'''\u001b[39m\u001b[38;5;132;01m{\u001b[39;00mplatform\u001b[38;5;132;01m}\u001b[39;00m\u001b[38;5;124m par \u001b[39m\u001b[38;5;132;01m{\u001b[39;00mpaisa\u001b[38;5;132;01m}\u001b[39;00m\u001b[38;5;124m rs Prapt hue.\u001b[39m\u001b[38;5;124m'''\u001b[39m\n",
      "\u001b[1;31mModuleNotFoundError\u001b[0m: No module named 'gtts'"
     ]
    }
   ],
   "source": [
    "# from gtts import gTTS\n",
    "# def sound_box(paisa,platform = 'Paytm'):\n",
    "#     text  = f'''{platform} par {paisa} rs Prapt hue.'''\n",
    "#     audio = gTTS(text)\n",
    "#     audio.save('paytm.mp3')\n",
    "\n",
    "#     import pygame as p\n",
    "#     p.init()\n",
    "#     music = p.mixer.Sound('paytm.mp3')\n",
    "#     music.play()"
   ]
  },
  {
   "cell_type": "code",
   "execution_count": 6,
   "id": "53fd127c-312d-4020-a36a-086f0183ac54",
   "metadata": {},
   "outputs": [
    {
     "name": "stdout",
     "output_type": "stream",
     "text": [
      "Collecting pygame\n",
      "  Using cached pygame-2.6.1-cp313-cp313-win_amd64.whl.metadata (13 kB)\n",
      "Using cached pygame-2.6.1-cp313-cp313-win_amd64.whl (10.6 MB)\n",
      "Installing collected packages: pygame\n",
      "Successfully installed pygame-2.6.1\n",
      "Note: you may need to restart the kernel to use updated packages.\n"
     ]
    }
   ],
   "source": [
    " pip install pygame"
   ]
  },
  {
   "cell_type": "code",
   "execution_count": 7,
   "id": "b9f2c480-b641-42cd-bea6-62520b27de1d",
   "metadata": {},
   "outputs": [],
   "source": [
    "from gtts import gTTS\n",
    "def sound_box(paisa,platform = 'Paytm'):\n",
    "    text  = f'''{platform} par {paisa} rs Prapt hue.''' # user se input karana ho toh \n",
    "    audio = gTTS(text)\n",
    "    audio.save('paytm.mp3')\n",
    "\n",
    "    import pygame as p\n",
    "    p.init()\n",
    "    music = p.mixer.Sound('paytm.mp3')\n",
    "    music.play()"
   ]
  },
  {
   "cell_type": "code",
   "execution_count": 9,
   "id": "8ccf72bb-04fd-4735-b95f-8e43e99ed2d9",
   "metadata": {},
   "outputs": [],
   "source": [
    "sound_box(500,'phonepe')"
   ]
  },
  {
   "cell_type": "code",
   "execution_count": 10,
   "id": "2086485c-27aa-4634-804c-de7d7b72dbba",
   "metadata": {},
   "outputs": [],
   "source": [
    "#function  programming \n",
    "def check_palidrome(word):\n",
    "    return word "
   ]
  },
  {
   "cell_type": "code",
   "execution_count": 11,
   "id": "5207d1d8-297d-4663-bc09-b10ca5dab779",
   "metadata": {},
   "outputs": [
    {
     "data": {
      "text/plain": [
       "'ajay'"
      ]
     },
     "execution_count": 11,
     "metadata": {},
     "output_type": "execute_result"
    }
   ],
   "source": [
    "check_palidrome('ajay')"
   ]
  },
  {
   "cell_type": "code",
   "execution_count": 12,
   "id": "58f7cd55-c7ad-4de9-9268-d7fd4ed120c1",
   "metadata": {},
   "outputs": [
    {
     "data": {
      "text/plain": [
       "'ykcul'"
      ]
     },
     "execution_count": 12,
     "metadata": {},
     "output_type": "execute_result"
    }
   ],
   "source": [
    "a= 'lucky' # reverse the word \n",
    "a[::-1]"
   ]
  },
  {
   "cell_type": "code",
   "execution_count": 17,
   "id": "7f91f62f-81ac-4dc1-97cb-52d0486802ea",
   "metadata": {},
   "outputs": [
    {
     "name": "stdout",
     "output_type": "stream",
     "text": [
      "maam is a palidrome\n"
     ]
    }
   ],
   "source": [
    "\n",
    "a = 'maam'\n",
    "\n",
    "if a==a[::-1]: # reverse\n",
    "   print( f'{a} is a palidrome')\n",
    "else:\n",
    "   print( f'{a} not a palidrome')"
   ]
  },
  {
   "cell_type": "code",
   "execution_count": 3,
   "id": "5bdb4e4a-e7ef-4f49-a913-5b61a021637e",
   "metadata": {},
   "outputs": [],
   "source": [
    " def check_palidrome(word):\n",
    "     if type(word) == str:\n",
    "         word =  word.upper() \n",
    "         if word==word[::-1]:\n",
    "             return ' palidrome'\n",
    "         else: \n",
    "             return 'not a palidrome'\n",
    "     else:\n",
    "          return 'invalid data type'"
   ]
  },
  {
   "cell_type": "code",
   "execution_count": 4,
   "id": "fa050eb7-66ff-4322-aa33-42b25df568da",
   "metadata": {},
   "outputs": [
    {
     "data": {
      "text/plain": [
       "' palidrome'"
      ]
     },
     "execution_count": 4,
     "metadata": {},
     "output_type": "execute_result"
    }
   ],
   "source": [
    "check_palidrome('Nitin')"
   ]
  },
  {
   "cell_type": "code",
   "execution_count": 21,
   "id": "618c9484-6ee7-41b0-920f-7998a7999df0",
   "metadata": {},
   "outputs": [
    {
     "name": "stdout",
     "output_type": "stream",
     "text": [
      "mohan\n"
     ]
    }
   ],
   "source": [
    "a:int = 'mohan' # ignore the data type by python \n",
    "print(a)"
   ]
  },
  {
   "cell_type": "code",
   "execution_count": 5,
   "id": "9e93e05f-f291-4228-b704-dfe2807dc80d",
   "metadata": {},
   "outputs": [],
   "source": [
    "def give_fibo(n):\n",
    "    fibo =[0,1] # by defualt \n",
    "    for i in range(n-2): # 5-2 =3\n",
    "        last_num = fibo[-1] \n",
    "        second_last_num = fibo[-2]\n",
    "        next_num = last_num + second_last_num \n",
    "        fibo.append(next_num)  \n",
    "    return fibo"
   ]
  },
  {
   "cell_type": "code",
   "execution_count": 6,
   "id": "5eb301ee-6c14-4552-bb51-e84e27fd2c64",
   "metadata": {},
   "outputs": [
    {
     "data": {
      "text/plain": [
       "[0, 1, 1, 2, 3, 5]"
      ]
     },
     "execution_count": 6,
     "metadata": {},
     "output_type": "execute_result"
    }
   ],
   "source": [
    "give_fibo(6)"
   ]
  },
  {
   "cell_type": "code",
   "execution_count": 2,
   "id": "f847fd38-4cb1-4a9b-99d9-183f7ab6c35c",
   "metadata": {},
   "outputs": [],
   "source": [
    "def check_prime(number):\n",
    "    for i in range(2,number):\n",
    "        if number % i ==0:\n",
    "            return ' not a prime'\n",
    "            break\n",
    "            print('happy')\n",
    "        else:\n",
    "            return'prime no'"
   ]
  },
  {
   "cell_type": "code",
   "execution_count": 3,
   "id": "9f19b041-0096-429e-a856-d693e145108c",
   "metadata": {},
   "outputs": [
    {
     "data": {
      "text/plain": [
       "'prime no'"
      ]
     },
     "execution_count": 3,
     "metadata": {},
     "output_type": "execute_result"
    }
   ],
   "source": [
    "check_prime(5)"
   ]
  },
  {
   "cell_type": "code",
   "execution_count": 49,
   "id": "9789bb07-f3c7-44c8-a81f-5262347d3e95",
   "metadata": {},
   "outputs": [
    {
     "name": "stdout",
     "output_type": "stream",
     "text": [
      "* \n",
      "* * \n",
      "* * * \n",
      "* * * * \n",
      "* * * * * \n"
     ]
    }
   ],
   "source": [
    "n = 5\n",
    "for i in range( 1,n+1):\n",
    "    print(i * '* ')"
   ]
  },
  {
   "cell_type": "code",
   "execution_count": 51,
   "id": "617beb60-86ac-4c92-8c43-a30c291df4cf",
   "metadata": {},
   "outputs": [
    {
     "name": "stdout",
     "output_type": "stream",
     "text": [
      "        * \n",
      "      * * \n",
      "    * * * \n",
      "  * * * * \n",
      "* * * * * \n"
     ]
    }
   ],
   "source": [
    "n = 5\n",
    "for i in range( 1,n+1):\n",
    "    print('  ' *(n-i) + i*'* ' ) "
   ]
  },
  {
   "cell_type": "code",
   "execution_count": 28,
   "id": "8735f924-8474-40c0-b4d0-2b0994fcea7b",
   "metadata": {},
   "outputs": [],
   "source": [
    "def print_star(n=5 , typ ='left'):\n",
    "    if typ =='left': # no space \n",
    "        space = ''\n",
    "    elif typ == 'right': # two space for clear alighnment\n",
    "        space = ' '\n",
    "    elif typ == 'mid': # one space \n",
    "        space == ' '\n",
    "    for i in range( 1,n+1):\n",
    "         print(space *(n-i) + i*'* ' )\n",
    "        "
   ]
  },
  {
   "cell_type": "code",
   "execution_count": 53,
   "id": "522cb4ac-24fb-40de-acbd-5a2fa4d6467c",
   "metadata": {},
   "outputs": [
    {
     "name": "stdout",
     "output_type": "stream",
     "text": [
      "    * \n",
      "   * * \n",
      "  * * * \n",
      " * * * * \n",
      "* * * * * \n"
     ]
    }
   ],
   "source": [
    "print_star(5,'left')"
   ]
  },
  {
   "cell_type": "code",
   "execution_count": 56,
   "id": "d9e19fb6-3d01-4207-948a-a543b48553d5",
   "metadata": {},
   "outputs": [],
   "source": [
    "def print_star(n=5 , typ ='left' , shape='*'):\n",
    "    global sp\n",
    "    if typ =='left':\n",
    "        sp = ''\n",
    "    elif typ == 'right':\n",
    "        sp = '  '\n",
    "    elif typ == 'mid':\n",
    "        sp == ' '\n",
    "    for i in range( 1,n+1):\n",
    "         print(space *(n-i) + i*f'{shape} ' ) # directly calll "
   ]
  },
  {
   "cell_type": "code",
   "execution_count": 57,
   "id": "de85fc22-b4a6-41b2-9f33-71997b2c0214",
   "metadata": {},
   "outputs": [
    {
     "name": "stdout",
     "output_type": "stream",
     "text": [
      "IINTM \n",
      "IINTM IINTM \n",
      "IINTM IINTM IINTM \n",
      "IINTM IINTM IINTM IINTM \n",
      "IINTM IINTM IINTM IINTM IINTM \n"
     ]
    }
   ],
   "source": [
    "print_star(5 ,'left','IINTM')"
   ]
  },
  {
   "cell_type": "code",
   "execution_count": 5,
   "id": "683c5a32-9853-42e6-b635-defe451d9673",
   "metadata": {},
   "outputs": [],
   "source": [
    "def sum_of_n_natural_num(n):\n",
    "    result = 0\n",
    "    for i in range(1,n+1):\n",
    "        result += i\n",
    "    return result"
   ]
  },
  {
   "cell_type": "code",
   "execution_count": 6,
   "id": "c362ba77-66a8-4e8a-9a14-21e089da3806",
   "metadata": {},
   "outputs": [
    {
     "data": {
      "text/plain": [
       "15"
      ]
     },
     "execution_count": 6,
     "metadata": {},
     "output_type": "execute_result"
    }
   ],
   "source": [
    "sum_of_n_natural_num(5)"
   ]
  },
  {
   "cell_type": "code",
   "execution_count": 65,
   "id": "8bb54da3-00ff-4c9a-9a18-ecb81b5ad5a4",
   "metadata": {},
   "outputs": [],
   "source": [
    "def factorial(n):\n",
    "    result =1\n",
    "    for i in range(1,n+1):\n",
    "        result *= i\n",
    "    return result"
   ]
  },
  {
   "cell_type": "code",
   "execution_count": 66,
   "id": "d6bc3110-8016-47f4-b09d-759b7eb6ff86",
   "metadata": {},
   "outputs": [
    {
     "data": {
      "text/plain": [
       "3628800"
      ]
     },
     "execution_count": 66,
     "metadata": {},
     "output_type": "execute_result"
    }
   ],
   "source": [
    "factorial(10)"
   ]
  },
  {
   "cell_type": "code",
   "execution_count": 3,
   "id": "5b62c5e7-b1f1-443b-864f-d0ddf739f913",
   "metadata": {},
   "outputs": [],
   "source": [
    "def total_sales(*args):           #unpacking ( holding more than one element )  means of * and make a tuple \n",
    "   return sum(args)"
   ]
  },
  {
   "cell_type": "code",
   "execution_count": 4,
   "id": "b0734bef-2d9a-4aa8-8315-9ba08406ce6a",
   "metadata": {},
   "outputs": [
    {
     "data": {
      "text/plain": [
       "7"
      ]
     },
     "execution_count": 4,
     "metadata": {},
     "output_type": "execute_result"
    }
   ],
   "source": [
    "total_sales(1,2,4)"
   ]
  },
  {
   "cell_type": "code",
   "execution_count": 22,
   "id": "e7a3fc7b-2abd-4a43-86d2-a8bd6bea1036",
   "metadata": {},
   "outputs": [],
   "source": [
    "def total_sales(*args):\n",
    "    result =0\n",
    "    for i in args:\n",
    "        result += i\n",
    "    return result"
   ]
  },
  {
   "cell_type": "code",
   "execution_count": 23,
   "id": "c58eb6d3-cdec-479d-96d5-9449accb7ff4",
   "metadata": {},
   "outputs": [
    {
     "data": {
      "text/plain": [
       "8"
      ]
     },
     "execution_count": 23,
     "metadata": {},
     "output_type": "execute_result"
    }
   ],
   "source": [
    "total_sales( 1,3,4)"
   ]
  },
  {
   "cell_type": "code",
   "execution_count": 24,
   "id": "a42c31ea-91b8-4990-b479-47e3927ac94e",
   "metadata": {},
   "outputs": [],
   "source": [
    "sales =[23,456,745,56 , 467,894]\n",
    "\n",
    "#min(sales)"
   ]
  },
  {
   "cell_type": "markdown",
   "id": "8803e1ba-de91-4e54-b4ce-7ce8f563e54b",
   "metadata": {},
   "source": [
    "min_element = sales[0]\n",
    "for i in sales [1:]:\n",
    "print(i)\n"
   ]
  },
  {
   "cell_type": "code",
   "execution_count": 26,
   "id": "7f3842d9-1f2a-40be-b04c-faca032fffed",
   "metadata": {},
   "outputs": [
    {
     "name": "stdout",
     "output_type": "stream",
     "text": [
      "23\n"
     ]
    }
   ],
   "source": [
    "sales =[23,456,745,56 , 467,894]\n",
    "min_element = sales[0]\n",
    "for i in sales[1:]: #starting from 1st index\n",
    "    if i < min_element:\n",
    "        min_element = i\n",
    "print(min_element)\n",
    "        "
   ]
  },
  {
   "cell_type": "code",
   "execution_count": 27,
   "id": "6a92e5e9-979b-4bd4-8f25-09ba74ceb0c0",
   "metadata": {},
   "outputs": [
    {
     "name": "stdout",
     "output_type": "stream",
     "text": [
      "894\n"
     ]
    }
   ],
   "source": [
    "sales =[23,456,745,56 , 467,894]\n",
    "max_element = sales[0]\n",
    "for i in sales[1:]:\n",
    "    if i > max_element:\n",
    "        max_element = i\n",
    "print(max_element)"
   ]
  },
  {
   "cell_type": "code",
   "execution_count": 32,
   "id": "9ba2c042-1ef1-46c0-9ae1-4be27b65e368",
   "metadata": {},
   "outputs": [],
   "source": [
    "def minn(*data):\n",
    "    min_ele = data[0]\n",
    "    for i in data[1:]:\n",
    "        if i< min_ele:\n",
    "            min_ele = i\n",
    "    return min_ele\n",
    "    "
   ]
  },
  {
   "cell_type": "code",
   "execution_count": 33,
   "id": "9a425894-c959-403a-bf45-3f65ad4dd24f",
   "metadata": {},
   "outputs": [
    {
     "data": {
      "text/plain": [
       "34"
      ]
     },
     "execution_count": 33,
     "metadata": {},
     "output_type": "execute_result"
    }
   ],
   "source": [
    "minn(34,567,789,569)"
   ]
  },
  {
   "cell_type": "code",
   "execution_count": 34,
   "id": "f85692c0-4d4c-4e70-a7c6-ee4c0a14424f",
   "metadata": {},
   "outputs": [],
   "source": [
    "def maxx(*data):\n",
    "    max_ele = data[0]\n",
    "    for i in data[1:]:\n",
    "        if i> max_ele:\n",
    "            max_ele = i\n",
    "    return max_ele"
   ]
  },
  {
   "cell_type": "code",
   "execution_count": 35,
   "id": "49b34e3d-11ba-4800-b5cd-f7b9efe10d7f",
   "metadata": {},
   "outputs": [
    {
     "data": {
      "text/plain": [
       "896"
      ]
     },
     "execution_count": 35,
     "metadata": {},
     "output_type": "execute_result"
    }
   ],
   "source": [
    "maxx(567,896,87,567,876)"
   ]
  },
  {
   "cell_type": "code",
   "execution_count": 36,
   "id": "5e814c1b-a9ea-468a-bfac-7d37cae79582",
   "metadata": {},
   "outputs": [],
   "source": [
    "company =['ola','uber','rapido','indrive','adani','tata']\n",
    "\n",
    "def add_hastag(*company):\n",
    "    result =[]\n",
    "    for i in company:\n",
    "        result.append('#'+i.upper())\n",
    "    return result\n"
   ]
  },
  {
   "cell_type": "code",
   "execution_count": 39,
   "id": "554329d5-1b73-4699-a874-df059492671a",
   "metadata": {},
   "outputs": [
    {
     "data": {
      "text/plain": [
       "['#OLA', '#UBER', '#RAPIDO', '#INDRIVE', '#ADANI', '#TATA']"
      ]
     },
     "execution_count": 39,
     "metadata": {},
     "output_type": "execute_result"
    }
   ],
   "source": [
    "add_hastag(*company)"
   ]
  },
  {
   "cell_type": "code",
   "execution_count": 41,
   "id": "93249648-a741-42aa-9bd5-d642e4c33e2c",
   "metadata": {},
   "outputs": [],
   "source": [
    "def store_records(name , age , sec,roll_no ,Class):\n",
    "    data = {'name': name, 'age':age,'sec':sec,'roll_no':roll_no,'Class':Class }\n",
    "    import pandas as pd\n",
    "    result = pd.DataFrame(data,index =[1])\n",
    "    return result"
   ]
  },
  {
   "cell_type": "code",
   "execution_count": 44,
   "id": "7334a4da-e433-43ef-bd85-c27ce4a8952c",
   "metadata": {},
   "outputs": [
    {
     "data": {
      "text/html": [
       "<div>\n",
       "<style scoped>\n",
       "    .dataframe tbody tr th:only-of-type {\n",
       "        vertical-align: middle;\n",
       "    }\n",
       "\n",
       "    .dataframe tbody tr th {\n",
       "        vertical-align: top;\n",
       "    }\n",
       "\n",
       "    .dataframe thead th {\n",
       "        text-align: right;\n",
       "    }\n",
       "</style>\n",
       "<table border=\"1\" class=\"dataframe\">\n",
       "  <thead>\n",
       "    <tr style=\"text-align: right;\">\n",
       "      <th></th>\n",
       "      <th>name</th>\n",
       "      <th>age</th>\n",
       "      <th>sec</th>\n",
       "      <th>roll_no</th>\n",
       "      <th>Class</th>\n",
       "    </tr>\n",
       "  </thead>\n",
       "  <tbody>\n",
       "    <tr>\n",
       "      <th>1</th>\n",
       "      <td>karan</td>\n",
       "      <td>14</td>\n",
       "      <td>c</td>\n",
       "      <td>12</td>\n",
       "      <td>12</td>\n",
       "    </tr>\n",
       "  </tbody>\n",
       "</table>\n",
       "</div>"
      ],
      "text/plain": [
       "    name  age sec  roll_no  Class\n",
       "1  karan   14   c       12     12"
      ]
     },
     "metadata": {},
     "output_type": "display_data"
    },
    {
     "data": {
      "text/html": [
       "<div>\n",
       "<style scoped>\n",
       "    .dataframe tbody tr th:only-of-type {\n",
       "        vertical-align: middle;\n",
       "    }\n",
       "\n",
       "    .dataframe tbody tr th {\n",
       "        vertical-align: top;\n",
       "    }\n",
       "\n",
       "    .dataframe thead th {\n",
       "        text-align: right;\n",
       "    }\n",
       "</style>\n",
       "<table border=\"1\" class=\"dataframe\">\n",
       "  <thead>\n",
       "    <tr style=\"text-align: right;\">\n",
       "      <th></th>\n",
       "      <th>name</th>\n",
       "      <th>age</th>\n",
       "      <th>sec</th>\n",
       "      <th>roll_no</th>\n",
       "      <th>Class</th>\n",
       "    </tr>\n",
       "  </thead>\n",
       "  <tbody>\n",
       "    <tr>\n",
       "      <th>1</th>\n",
       "      <td>bhoomi</td>\n",
       "      <td>14</td>\n",
       "      <td>c</td>\n",
       "      <td>12</td>\n",
       "      <td>12</td>\n",
       "    </tr>\n",
       "  </tbody>\n",
       "</table>\n",
       "</div>"
      ],
      "text/plain": [
       "     name  age sec  roll_no  Class\n",
       "1  bhoomi   14   c       12     12"
      ]
     },
     "metadata": {},
     "output_type": "display_data"
    },
    {
     "data": {
      "text/html": [
       "<div>\n",
       "<style scoped>\n",
       "    .dataframe tbody tr th:only-of-type {\n",
       "        vertical-align: middle;\n",
       "    }\n",
       "\n",
       "    .dataframe tbody tr th {\n",
       "        vertical-align: top;\n",
       "    }\n",
       "\n",
       "    .dataframe thead th {\n",
       "        text-align: right;\n",
       "    }\n",
       "</style>\n",
       "<table border=\"1\" class=\"dataframe\">\n",
       "  <thead>\n",
       "    <tr style=\"text-align: right;\">\n",
       "      <th></th>\n",
       "      <th>name</th>\n",
       "      <th>age</th>\n",
       "      <th>sec</th>\n",
       "      <th>roll_no</th>\n",
       "      <th>Class</th>\n",
       "    </tr>\n",
       "  </thead>\n",
       "  <tbody>\n",
       "    <tr>\n",
       "      <th>1</th>\n",
       "      <td>mansi</td>\n",
       "      <td>14</td>\n",
       "      <td>c</td>\n",
       "      <td>12</td>\n",
       "      <td>12</td>\n",
       "    </tr>\n",
       "  </tbody>\n",
       "</table>\n",
       "</div>"
      ],
      "text/plain": [
       "    name  age sec  roll_no  Class\n",
       "1  mansi   14   c       12     12"
      ]
     },
     "metadata": {},
     "output_type": "display_data"
    }
   ],
   "source": [
    "display(store_records('karan',14,'c',12,12)) # display used to show more than one data in table \n",
    "display(store_records('bhoomi',14,'c',12,12))\n",
    "display(store_records('mansi',14,'c',12,12))\n"
   ]
  },
  {
   "cell_type": "code",
   "execution_count": 46,
   "id": "768e1a59-480d-4eed-bc20-bc0d9e1e311a",
   "metadata": {},
   "outputs": [],
   "source": [
    " def students_records(**kwargs):\n",
    "     print(kwargs)\n",
    "     keys =list(kwargs)\n",
    "  if   type( keys[0] ) ==str:\n",
    "\n",
    "import pandas as pd\n",
    "   result = pd.DataFrame(kwargs,index=[1])\n",
    "     return result\n",
    "else:\n",
    "   result = pd.DataFrame(kwargs,index=[1])\n",
    "     return result\n"
   ]
  },
  {
   "cell_type": "code",
   "execution_count": 47,
   "id": "5c8a88a9-bcf6-46eb-b750-d4485fffc5dc",
   "metadata": {},
   "outputs": [
    {
     "data": {
      "text/html": [
       "<div>\n",
       "<style scoped>\n",
       "    .dataframe tbody tr th:only-of-type {\n",
       "        vertical-align: middle;\n",
       "    }\n",
       "\n",
       "    .dataframe tbody tr th {\n",
       "        vertical-align: top;\n",
       "    }\n",
       "\n",
       "    .dataframe thead th {\n",
       "        text-align: right;\n",
       "    }\n",
       "</style>\n",
       "<table border=\"1\" class=\"dataframe\">\n",
       "  <thead>\n",
       "    <tr style=\"text-align: right;\">\n",
       "      <th></th>\n",
       "      <th>Name</th>\n",
       "      <th>Age</th>\n",
       "      <th>Sec</th>\n",
       "      <th>Roll_no</th>\n",
       "      <th>Address</th>\n",
       "    </tr>\n",
       "  </thead>\n",
       "  <tbody>\n",
       "    <tr>\n",
       "      <th>1</th>\n",
       "      <td>bhoomi</td>\n",
       "      <td>20</td>\n",
       "      <td>M2</td>\n",
       "      <td>36</td>\n",
       "      <td>delhi</td>\n",
       "    </tr>\n",
       "  </tbody>\n",
       "</table>\n",
       "</div>"
      ],
      "text/plain": [
       "     Name  Age Sec  Roll_no Address\n",
       "1  bhoomi   20  M2       36   delhi"
      ]
     },
     "execution_count": 47,
     "metadata": {},
     "output_type": "execute_result"
    }
   ],
   "source": [
    "students_records(Name ='bhoomi',Age =20,Sec = 'M2' , Roll_no = 36,Address= 'delhi')"
   ]
  },
  {
   "cell_type": "code",
   "execution_count": 6,
   "id": "8438983d-1e97-46ad-bf4b-bcbe5150578f",
   "metadata": {},
   "outputs": [
    {
     "data": {
      "text/html": [
       "<div>\n",
       "<style scoped>\n",
       "    .dataframe tbody tr th:only-of-type {\n",
       "        vertical-align: middle;\n",
       "    }\n",
       "\n",
       "    .dataframe tbody tr th {\n",
       "        vertical-align: top;\n",
       "    }\n",
       "\n",
       "    .dataframe thead th {\n",
       "        text-align: right;\n",
       "    }\n",
       "</style>\n",
       "<table border=\"1\" class=\"dataframe\">\n",
       "  <thead>\n",
       "    <tr style=\"text-align: right;\">\n",
       "      <th></th>\n",
       "      <th>name</th>\n",
       "      <th>age</th>\n",
       "      <th>sec</th>\n",
       "      <th>roll_no</th>\n",
       "    </tr>\n",
       "  </thead>\n",
       "  <tbody>\n",
       "    <tr>\n",
       "      <th>0</th>\n",
       "      <td>komal</td>\n",
       "      <td>12</td>\n",
       "      <td>A</td>\n",
       "      <td>34</td>\n",
       "    </tr>\n",
       "    <tr>\n",
       "      <th>1</th>\n",
       "      <td>bhoomi</td>\n",
       "      <td>13</td>\n",
       "      <td>B</td>\n",
       "      <td>56</td>\n",
       "    </tr>\n",
       "  </tbody>\n",
       "</table>\n",
       "</div>"
      ],
      "text/plain": [
       "     name  age sec  roll_no\n",
       "0   komal   12   A       34\n",
       "1  bhoomi   13   B       56"
      ]
     },
     "execution_count": 6,
     "metadata": {},
     "output_type": "execute_result"
    }
   ],
   "source": [
    "def students_records(**kwargs): # * = tuple , ** = dictionary store karta h \n",
    "    import pandas as pd\n",
    "    try:\n",
    "        result =pd.DataFrame(kwargs) # more than one ho gya toh yeh run ho gya \n",
    "        return result\n",
    "    except:\n",
    "        result = pd.DataFrame(kwargs,index=[1]) # then this will run \n",
    "        return result\n",
    "        \n",
    "students_records(name =['komal','bhoomi'],\n",
    "                 age = [12,13],\n",
    "                 sec = list('AB'),\n",
    "              roll_no =  [34,56])"
   ]
  },
  {
   "cell_type": "code",
   "execution_count": null,
   "id": "096bf5b8-085f-47a2-939c-637281e08e24",
   "metadata": {},
   "outputs": [],
   "source": [
    "def show_time(): \n",
    "    try:\n",
    "        while True:\n",
    "            import time\n",
    "            print(time.asctime()) # function hai yeh ( time.time , asctime) \n",
    "            time.sleep(1)\n",
    "            display(clear = True) # previous wale ko remove karke current ko show karna\n",
    "    except:\n",
    "        print(' timer has been stopped !! ')"
   ]
  },
  {
   "cell_type": "code",
   "execution_count": null,
   "id": "a3873afe-0acc-4855-b5ca-c70013c5256d",
   "metadata": {},
   "outputs": [],
   "source": [
    "show_time()"
   ]
  },
  {
   "cell_type": "code",
   "execution_count": null,
   "id": "3b9dd64e-37e1-46b8-bf31-882ca43ec565",
   "metadata": {},
   "outputs": [],
   "source": []
  },
  {
   "cell_type": "code",
   "execution_count": null,
   "id": "2521527d-022d-42a5-85bd-79e0ffc8edf2",
   "metadata": {},
   "outputs": [],
   "source": []
  }
 ],
 "metadata": {
  "kernelspec": {
   "display_name": "Python [conda env:anaconda3] *",
   "language": "python",
   "name": "conda-env-anaconda3-py"
  },
  "language_info": {
   "codemirror_mode": {
    "name": "ipython",
    "version": 3
   },
   "file_extension": ".py",
   "mimetype": "text/x-python",
   "name": "python",
   "nbconvert_exporter": "python",
   "pygments_lexer": "ipython3",
   "version": "3.13.5"
  }
 },
 "nbformat": 4,
 "nbformat_minor": 5
}

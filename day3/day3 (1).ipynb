{
 "cells": [
  {
   "cell_type": "code",
   "execution_count": 10,
   "id": "647d469b-8667-4192-a483-de14f17a2cba",
   "metadata": {},
   "outputs": [
    {
     "name": "stdout",
     "output_type": "stream",
     "text": [
      "something went wrong !!\n",
      "invalid data type comparison!!\n"
     ]
    }
   ],
   "source": [
    "#exception handling \n",
    "age = '23'\n",
    "\n",
    "try:\n",
    "    if age>=18:\n",
    "        print('can vote')\n",
    "    else:\n",
    "        print('can\\'t vote')\n",
    "except TypeError:\n",
    "    print('something went wrong !!')\n",
    "    print('invalid data type comparison!!')\n",
    "\n",
    "except:\n",
    "    print('invalid code')"
   ]
  },
  {
   "cell_type": "code",
   "execution_count": null,
   "id": "1fc8e1db-082f-48bd-ad0b-f56ee9fa7959",
   "metadata": {},
   "outputs": [],
   "source": []
  },
  {
   "cell_type": "code",
   "execution_count": null,
   "id": "f6549f7d-67ad-417d-882f-10542017fd49",
   "metadata": {},
   "outputs": [],
   "source": []
  },
  {
   "cell_type": "code",
   "execution_count": null,
   "id": "677e2c28-1232-47df-9cd9-9ffe68df837d",
   "metadata": {},
   "outputs": [],
   "source": []
  },
  {
   "cell_type": "code",
   "execution_count": null,
   "id": "606c78b1-52ef-4f9a-bccf-3f4db47d8354",
   "metadata": {},
   "outputs": [],
   "source": []
  },
  {
   "cell_type": "code",
   "execution_count": null,
   "id": "ac0d599e-d894-442b-934b-ff60706a9b67",
   "metadata": {},
   "outputs": [],
   "source": []
  },
  {
   "cell_type": "code",
   "execution_count": null,
   "id": "4cbc0d2a-dd5e-4a31-9d25-fda8f345eaea",
   "metadata": {},
   "outputs": [],
   "source": []
  },
  {
   "cell_type": "code",
   "execution_count": null,
   "id": "654c18d0-b4d0-46c1-a8a3-489971de3e18",
   "metadata": {},
   "outputs": [],
   "source": []
  },
  {
   "cell_type": "code",
   "execution_count": null,
   "id": "eb6f7426-ebef-494c-a657-b31a4e069fcb",
   "metadata": {},
   "outputs": [],
   "source": []
  },
  {
   "cell_type": "code",
   "execution_count": null,
   "id": "116e6518-b5c4-4cbe-bf31-d70e56657d54",
   "metadata": {},
   "outputs": [],
   "source": []
  },
  {
   "cell_type": "code",
   "execution_count": null,
   "id": "f02af53e-0658-413e-903b-3a78553a3791",
   "metadata": {},
   "outputs": [],
   "source": []
  },
  {
   "cell_type": "code",
   "execution_count": null,
   "id": "a49f43c1-2d89-4652-b84f-e0dcf04b59ba",
   "metadata": {},
   "outputs": [],
   "source": []
  },
  {
   "cell_type": "code",
   "execution_count": 1,
   "id": "3487f288-5050-46df-bde2-8651c8bcb7ea",
   "metadata": {},
   "outputs": [
    {
     "name": "stdout",
     "output_type": "stream",
     "text": [
      " this is Bhoomi module in python\n",
      "info: https://www.google.com/\n",
      "done\n"
     ]
    }
   ],
   "source": [
    "import bhomi as b\n",
    "print('done')"
   ]
  },
  {
   "cell_type": "code",
   "execution_count": 2,
   "id": "3971358d-fed1-4ef0-9969-3ee6fd7c4bcd",
   "metadata": {},
   "outputs": [
    {
     "name": "stdout",
     "output_type": "stream",
     "text": [
      "    % \n",
      "   % % \n",
      "  % % % \n",
      " % % % % \n",
      "% % % % % \n"
     ]
    }
   ],
   "source": [
    "b.print_star(n =5,typ='mid',shape='%')"
   ]
  },
  {
   "cell_type": "code",
   "execution_count": 32,
   "id": "fda3a83a-2e9d-4ec3-9c2e-2218d5ce1414",
   "metadata": {},
   "outputs": [
    {
     "data": {
      "text/plain": [
       "[0, 1, 1, 2, 3, 5, 8, 13, 21, 34, 55, 89]"
      ]
     },
     "execution_count": 32,
     "metadata": {},
     "output_type": "execute_result"
    }
   ],
   "source": [
    "B.give_fibo(12)"
   ]
  },
  {
   "cell_type": "code",
   "execution_count": 34,
   "id": "4f1cb5ca-d128-4ba1-884b-eef1090dba12",
   "metadata": {},
   "outputs": [],
   "source": [
    "B.sound_box( 100)"
   ]
  },
  {
   "cell_type": "code",
   "execution_count": null,
   "id": "833321bb-05ea-4511-ad94-b9636b3dec9a",
   "metadata": {},
   "outputs": [],
   "source": []
  },
  {
   "cell_type": "code",
   "execution_count": 3,
   "id": "d170c64b-1d5e-4fae-8cf8-2a79521a1879",
   "metadata": {},
   "outputs": [
    {
     "name": "stdout",
     "output_type": "stream",
     "text": [
      "done\n"
     ]
    }
   ],
   "source": [
    "from bhomi import minn \n",
    "print('done')"
   ]
  },
  {
   "cell_type": "code",
   "execution_count": 4,
   "id": "d9bfb4f2-234e-429b-a9f7-4af8c85e8a42",
   "metadata": {},
   "outputs": [
    {
     "name": "stdout",
     "output_type": "stream",
     "text": [
      "done\n"
     ]
    }
   ],
   "source": [
    "from bhomi import students_records\n",
    "print('done')"
   ]
  },
  {
   "cell_type": "code",
   "execution_count": 5,
   "id": "7e9f6970-491e-49b1-b981-d97893494d9d",
   "metadata": {},
   "outputs": [
    {
     "data": {
      "text/html": [
       "<div>\n",
       "<style scoped>\n",
       "    .dataframe tbody tr th:only-of-type {\n",
       "        vertical-align: middle;\n",
       "    }\n",
       "\n",
       "    .dataframe tbody tr th {\n",
       "        vertical-align: top;\n",
       "    }\n",
       "\n",
       "    .dataframe thead th {\n",
       "        text-align: right;\n",
       "    }\n",
       "</style>\n",
       "<table border=\"1\" class=\"dataframe\">\n",
       "  <thead>\n",
       "    <tr style=\"text-align: right;\">\n",
       "      <th></th>\n",
       "      <th>name</th>\n",
       "      <th>sec</th>\n",
       "    </tr>\n",
       "  </thead>\n",
       "  <tbody>\n",
       "    <tr>\n",
       "      <th>1</th>\n",
       "      <td>bhoomi</td>\n",
       "      <td>M2</td>\n",
       "    </tr>\n",
       "  </tbody>\n",
       "</table>\n",
       "</div>"
      ],
      "text/plain": [
       "     name sec\n",
       "1  bhoomi  M2"
      ]
     },
     "execution_count": 5,
     "metadata": {},
     "output_type": "execute_result"
    }
   ],
   "source": [
    "students_records(name = 'bhoomi',sec='M2')"
   ]
  },
  {
   "cell_type": "code",
   "execution_count": 6,
   "id": "f41086a3-1fed-4a6e-91c5-343b330fd688",
   "metadata": {},
   "outputs": [
    {
     "name": "stdout",
     "output_type": "stream",
     "text": [
      "done\n"
     ]
    }
   ],
   "source": [
    "from bhomi import *\n",
    "print('done')"
   ]
  },
  {
   "cell_type": "code",
   "execution_count": 7,
   "id": "cb6a353f-fc4c-4415-9e9b-662e8f09da75",
   "metadata": {},
   "outputs": [
    {
     "data": {
      "text/plain": [
       "1035"
      ]
     },
     "execution_count": 7,
     "metadata": {},
     "output_type": "execute_result"
    }
   ],
   "source": [
    "sum_of_n_natural_num(45)"
   ]
  },
  {
   "cell_type": "code",
   "execution_count": 8,
   "id": "30bb3a5e-bf26-4aa4-836f-920bf5541199",
   "metadata": {},
   "outputs": [
    {
     "name": "stdout",
     "output_type": "stream",
     "text": [
      "done\n"
     ]
    }
   ],
   "source": [
    "import turtle # graphical designs \n",
    "print('done')"
   ]
  },
  {
   "cell_type": "code",
   "execution_count": 6,
   "id": "61b36571-4640-49b2-b23b-239f54a95a01",
   "metadata": {},
   "outputs": [],
   "source": [
    "import turtle\n",
    "for i in range(120):\n",
    "    turtle.speed(0)\n",
    "    turtle.bgcolor('black')\n",
    "    col =['red','yellow','blue','orange']\n",
    "    import random\n",
    "    picked_color =random.choice(col)\n",
    "    turtle.color(picked_color)\n",
    "    turtle.circle(100)\n",
    "    turtle.left(3)\n",
    "    "
   ]
  },
  {
   "cell_type": "code",
   "execution_count": 7,
   "id": "5f15c63b-c459-4685-8169-6b6b1c991512",
   "metadata": {},
   "outputs": [
    {
     "data": {
      "text/plain": [
       "<function turtle.forward(distance)>"
      ]
     },
     "execution_count": 7,
     "metadata": {},
     "output_type": "execute_result"
    }
   ],
   "source": [
    "import turtle  #design forming ,mathematically.\n",
    "turtle.forward"
   ]
  },
  {
   "cell_type": "code",
   "execution_count": 1,
   "id": "a12d3b10-5cf5-416d-bd9d-96f69bc68e55",
   "metadata": {},
   "outputs": [],
   "source": [
    "import turtle\n",
    "for i in range(3):\n",
    "    turtle.bgcolor('black')\n",
    "    turtle.color('cyan')\n",
    "    turtle.forward(150)\n",
    "    turtle.left(60)"
   ]
  },
  {
   "cell_type": "code",
   "execution_count": 1,
   "id": "66c8e41c-ff44-4a0b-a3f8-855bd59599cf",
   "metadata": {},
   "outputs": [],
   "source": [
    "#file handling \n",
    "#types of file \n",
    "# 1 text file\n",
    " # .py , .html,.csv .tsv.java,.c,.json they all are able to apen in the notebook \n",
    "# 2 binary file uses software to run  file \n",
    "#.pdf,.mp3,.mp4,.jpeg,.png,.exe,.zip,.dat,.tar,.xlsx,.ppt,.doc,.ipynb "
   ]
  },
  {
   "cell_type": "code",
   "execution_count": 2,
   "id": "f45604a8-a5e3-40e7-88d8-287f95e44402",
   "metadata": {},
   "outputs": [],
   "source": [
    "#handling :- read,write,copy,append,delete,open,new"
   ]
  },
  {
   "cell_type": "code",
   "execution_count": 3,
   "id": "9036d43f-0a1a-462d-8110-27bfe9c8604b",
   "metadata": {},
   "outputs": [],
   "source": [
    "#context manager :- file autamatically close ho jaati hai in this  use 'with' "
   ]
  },
  {
   "cell_type": "code",
   "execution_count": 5,
   "id": "631d4538-a844-4d7d-aae5-39a49db4d4c4",
   "metadata": {},
   "outputs": [
    {
     "name": "stdout",
     "output_type": "stream",
     "text": [
      "print(''' this is Bhoomi module in python\n",
      "info: ht\n"
     ]
    }
   ],
   "source": [
    "file = open('bhomi.py',mode ='r')\n",
    "print(file.read(50))\n",
    "file.close()\n",
    "\n"
   ]
  },
  {
   "cell_type": "code",
   "execution_count": 7,
   "id": "cb845a85-a04e-46ba-9971-d96b886111e3",
   "metadata": {},
   "outputs": [
    {
     "name": "stdout",
     "output_type": "stream",
     "text": [
      "2775117593216\n",
      "2775117593216\n",
      "2775117593216\n"
     ]
    }
   ],
   "source": [
    "a = 'ajay'\n",
    "b = 'ajay'\n",
    "c = 'ajay'\n",
    "print(id(a))\n",
    "print(id(b))\n",
    "print(id(c))"
   ]
  },
  {
   "cell_type": "code",
   "execution_count": 10,
   "id": "2d29f13c-06bb-4bd2-80a1-ce3aa213c718",
   "metadata": {},
   "outputs": [
    {
     "name": "stdout",
     "output_type": "stream",
     "text": [
      "print(''' this is Bhoomi module in python\n",
      "\n"
     ]
    }
   ],
   "source": [
    "f = open('bhomi.py',mode ='r')\n",
    "print(f.readline())"
   ]
  },
  {
   "cell_type": "code",
   "execution_count": 11,
   "id": "ebceb604-562b-4dd7-b741-99a20434f776",
   "metadata": {},
   "outputs": [
    {
     "name": "stdout",
     "output_type": "stream",
     "text": [
      "done\n"
     ]
    }
   ],
   "source": [
    "f.close()\n",
    "print('done')"
   ]
  },
  {
   "cell_type": "code",
   "execution_count": 12,
   "id": "e84f0010-fbeb-408b-b10b-1e69bb273864",
   "metadata": {},
   "outputs": [
    {
     "name": "stdout",
     "output_type": "stream",
     "text": [
      "print(''' this is Bhoomi module in python\n",
      "\n",
      "info: https://www.google.com/''')\n",
      "\n",
      "\n",
      "\n",
      "\n",
      "\n",
      "def check_palidrome(word):\n",
      "\n"
     ]
    }
   ],
   "source": [
    "f = open('bhomi.py',mode ='r')\n",
    "for i in range (5):\n",
    "    print(f.readline())"
   ]
  },
  {
   "cell_type": "code",
   "execution_count": 3,
   "id": "88b93e92-d31d-4996-9684-2cdd7f64bc6d",
   "metadata": {},
   "outputs": [
    {
     "name": "stdout",
     "output_type": "stream",
     "text": [
      "print(''' this is Bhoomi module in python\n",
      "\n"
     ]
    }
   ],
   "source": [
    "f = open('bhomi.py',mode ='r')\n",
    "for i in range (5):\n",
    "    if i ==4: # only we want to read fifth line \n",
    "     print(f.readline())\n",
    "else:\n",
    "    f.readline()"
   ]
  },
  {
   "cell_type": "code",
   "execution_count": 16,
   "id": "082a927e-b1b0-4fdf-b88b-e5e4af0f9ff0",
   "metadata": {},
   "outputs": [
    {
     "name": "stdout",
     "output_type": "stream",
     "text": [
      "done\n"
     ]
    }
   ],
   "source": [
    "f = open('bhomi.py',mode ='r')\n",
    "data = f.readlines()\n",
    "\n",
    "f.close()\n",
    "print('done')"
   ]
  },
  {
   "cell_type": "code",
   "execution_count": 18,
   "id": "f2f80757-aecf-4696-b18f-77b2e59d43dd",
   "metadata": {},
   "outputs": [
    {
     "name": "stdout",
     "output_type": "stream",
     "text": [
      "         if word==word[::-1]:\n",
      "\n"
     ]
    }
   ],
   "source": [
    "print(data[7])"
   ]
  },
  {
   "cell_type": "code",
   "execution_count": 22,
   "id": "6e57d5c2-7610-41b8-a532-78e65ae593fe",
   "metadata": {},
   "outputs": [
    {
     "name": "stdout",
     "output_type": "stream",
     "text": [
      "print(''' this is Bhoomi module in python\n",
      "\n",
      "info: https://www.google.com/''')\n",
      "\n",
      "\n",
      "\n",
      "\n",
      "\n",
      "def check_palidrome(word):\n",
      "\n"
     ]
    }
   ],
   "source": [
    "for i in data[:5]:\n",
    " print(i)"
   ]
  },
  {
   "cell_type": "code",
   "execution_count": null,
   "id": "4b5ac257-2c73-4f8f-b942-966a03f3aa17",
   "metadata": {},
   "outputs": [],
   "source": []
  }
 ],
 "metadata": {
  "kernelspec": {
   "display_name": "Python [conda env:anaconda3] *",
   "language": "python",
   "name": "conda-env-anaconda3-py"
  },
  "language_info": {
   "codemirror_mode": {
    "name": "ipython",
    "version": 3
   },
   "file_extension": ".py",
   "mimetype": "text/x-python",
   "name": "python",
   "nbconvert_exporter": "python",
   "pygments_lexer": "ipython3",
   "version": "3.13.5"
  }
 },
 "nbformat": 4,
 "nbformat_minor": 5
}

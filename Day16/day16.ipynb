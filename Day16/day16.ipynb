{
 "cells": [
  {
   "cell_type": "code",
   "execution_count": 4,
   "id": "4c617057-79e1-4cc0-8027-5ebd87d74fd1",
   "metadata": {},
   "outputs": [
    {
     "name": "stdout",
     "output_type": "stream",
     "text": [
      "done\n"
     ]
    }
   ],
   "source": [
    "\n",
    "import pickle \n",
    "import warnings \n",
    "warnings.filterwarnings('ignore')\n",
    "with open( 'capital_pred.pkl' ,'rb') as f :\n",
    "    chatgpt = pickle.load(f)\n",
    "print('done')"
   ]
  },
  {
   "cell_type": "code",
   "execution_count": 5,
   "id": "4d571c36-b474-4ef9-b590-a69e38708395",
   "metadata": {},
   "outputs": [
    {
     "name": "stdin",
     "output_type": "stream",
     "text": [
      "enter the year to predict capita: 2025\n"
     ]
    },
    {
     "name": "stdout",
     "output_type": "stream",
     "text": [
      "\n",
      "year:2025\n",
      "capita in USD($):45431.02\n"
     ]
    }
   ],
   "source": [
    "year =float(input('enter the year to predict capita:'))\n",
    "\n",
    "final_year =[[year]]\n",
    "capita = round(chatgpt.predict(final_year)[0],2)\n",
    "print(f'''\n",
    "year:{int(year)}\n",
    "capita in USD($):{capita}''')"
   ]
  },
  {
   "cell_type": "code",
   "execution_count": null,
   "id": "56d6c7de-0224-49c8-941d-3907c34a8fdd",
   "metadata": {},
   "outputs": [],
   "source": []
  }
 ],
 "metadata": {
  "kernelspec": {
   "display_name": "Python [conda env:anaconda3] *",
   "language": "python",
   "name": "conda-env-anaconda3-py"
  },
  "language_info": {
   "codemirror_mode": {
    "name": "ipython",
    "version": 3
   },
   "file_extension": ".py",
   "mimetype": "text/x-python",
   "name": "python",
   "nbconvert_exporter": "python",
   "pygments_lexer": "ipython3",
   "version": "3.13.5"
  }
 },
 "nbformat": 4,
 "nbformat_minor": 5
}

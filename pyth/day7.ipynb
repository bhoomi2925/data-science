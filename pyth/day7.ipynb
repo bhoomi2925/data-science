{
 "cells": [
  {
   "cell_type": "markdown",
   "id": "3ed00edd-4018-45bf-9482-4524602c849d",
   "metadata": {},
   "source": [
    "# inheritance "
   ]
  },
  {
   "cell_type": "code",
   "execution_count": 2,
   "id": "f1a54ef2-6c63-42d0-86fa-7936348bf917",
   "metadata": {},
   "outputs": [],
   "source": [
    "class A:\n",
    "\n",
    "    def i_am_a():\n",
    "        print('i am as a func of class A')\n",
    " \n",
    "class B:\n",
    "\n",
    "    def i_am_b():\n",
    "        print('i am as a func of class B')"
   ]
  },
  {
   "cell_type": "code",
   "execution_count": 12,
   "id": "a69e7752-8621-4648-82a9-d24f48c519c8",
   "metadata": {},
   "outputs": [],
   "source": [
    "obj_a =A()\n",
    "obj_b =B()"
   ]
  },
  {
   "cell_type": "code",
   "execution_count": 4,
   "id": "d0ce04bc-25a4-4859-8882-e7c30dbe67dd",
   "metadata": {},
   "outputs": [],
   "source": [
    "#simple(single), multiple , multilevel , hybrid inheritance "
   ]
  },
  {
   "cell_type": "code",
   "execution_count": 8,
   "id": "e9ea4fb6-56d7-40dd-bff2-43ae875d5e7a",
   "metadata": {},
   "outputs": [],
   "source": [
    "# simple inheritance \n",
    "class BMW: # parent class /super class / main class /base class\n",
    "\n",
    "    def super_turbo_engine(self):\n",
    "        print('super_turbo_engine fast speed')\n",
    "\n",
    "class Audi(BMW): #child class/ sub class\n",
    "    def auto_pilot(self):\n",
    "        print('can run on auto pilot model!!')"
   ]
  },
  {
   "cell_type": "code",
   "execution_count": 9,
   "id": "aef40564-1a1e-4503-93e8-743c956bd583",
   "metadata": {},
   "outputs": [],
   "source": [
    "audi_r8 =Audi()"
   ]
  },
  {
   "cell_type": "code",
   "execution_count": 10,
   "id": "5b42681c-6386-4acd-8799-0d241043f3ab",
   "metadata": {},
   "outputs": [
    {
     "name": "stdout",
     "output_type": "stream",
     "text": [
      "can run on auto pilot model!!\n"
     ]
    }
   ],
   "source": [
    "audi_r8.auto_pilot()"
   ]
  },
  {
   "cell_type": "code",
   "execution_count": 11,
   "id": "a4c83144-ab30-4e77-a120-feb9fd288c98",
   "metadata": {},
   "outputs": [
    {
     "name": "stdout",
     "output_type": "stream",
     "text": [
      "super_turbo_engine fast speed\n"
     ]
    }
   ],
   "source": [
    "audi_r8.super_turbo_engine()"
   ]
  },
  {
   "cell_type": "code",
   "execution_count": 13,
   "id": "94177c73-6ee9-42aa-91b3-8c7e3f2ff1cc",
   "metadata": {},
   "outputs": [],
   "source": [
    "# multiple inheritance (more than one)\n"
   ]
  },
  {
   "cell_type": "code",
   "execution_count": 31,
   "id": "e128e171-2089-49d5-a33f-7859c7dcc109",
   "metadata": {},
   "outputs": [],
   "source": [
    "class Daily_Object:\n",
    "    def phone_case(self):\n",
    "        print('strong build phone case')\n",
    "\n",
    "class JBL:\n",
    "    def sonic_speaker(self):\n",
    "        print('hight quality sound speaker')\n",
    "\n",
    "class Samsung:\n",
    "    def screen_display(self):\n",
    "        print('4k HD Display')\n",
    "\n",
    "class Sony:\n",
    "    def camera(self):\n",
    "        print('4k camera')\n",
    "\n",
    "class Nvidia:\n",
    "    def motherboard(self):\n",
    "        print('fast motherboard')\n",
    "\n",
    "class Lava:\n",
    "    def charger(self):\n",
    "        print('super fast charger from lava')\n",
    "\n",
    "class One_plus:\n",
    "    def charger(self):\n",
    "        print('original superfast charger from oneplus')\n",
    "\n",
    "class Mobile (Daily_Object,JBL,Samsung,Sony,Nvidia,Lava,One_plus):\n",
    "    def __init__(self):\n",
    "        print('phone object created successfully')\n",
    "\n",
    "    def charger(self):\n",
    "        print('actual charger from mobile')\\\n",
    "\n",
    "    "
   ]
  },
  {
   "cell_type": "code",
   "execution_count": 32,
   "id": "2d6f22e5-8ec9-42ed-8b5c-3984b8f04dbb",
   "metadata": {},
   "outputs": [
    {
     "name": "stdout",
     "output_type": "stream",
     "text": [
      "phone object created successfully\n"
     ]
    }
   ],
   "source": [
    "nothing = Mobile()"
   ]
  },
  {
   "cell_type": "code",
   "execution_count": 25,
   "id": "60a5bd84-10e7-4ad5-a660-0d1b4f74dc8a",
   "metadata": {},
   "outputs": [
    {
     "name": "stdout",
     "output_type": "stream",
     "text": [
      "strong build phone case\n"
     ]
    }
   ],
   "source": [
    "nothing.phone_case()"
   ]
  },
  {
   "cell_type": "code",
   "execution_count": 26,
   "id": "14397f04-3d5f-4467-a609-105be9389e39",
   "metadata": {},
   "outputs": [
    {
     "name": "stdout",
     "output_type": "stream",
     "text": [
      "super fast charger\n"
     ]
    }
   ],
   "source": [
    "nothing.charger()\n"
   ]
  },
  {
   "cell_type": "code",
   "execution_count": 27,
   "id": "e494741e-03db-4e9e-99bf-4c3ab60c3983",
   "metadata": {},
   "outputs": [
    {
     "name": "stdout",
     "output_type": "stream",
     "text": [
      "fast motherboard\n"
     ]
    }
   ],
   "source": [
    "nothing.motherboard()"
   ]
  },
  {
   "cell_type": "code",
   "execution_count": 33,
   "id": "7a9bf6eb-5ab5-4751-ad1d-104903d69410",
   "metadata": {},
   "outputs": [
    {
     "name": "stdout",
     "output_type": "stream",
     "text": [
      "actual charger from mobile\n"
     ]
    }
   ],
   "source": [
    "nothing.charger()"
   ]
  },
  {
   "cell_type": "code",
   "execution_count": 34,
   "id": "9047c765-75d2-4df8-ba41-c375ffaedda7",
   "metadata": {},
   "outputs": [],
   "source": [
    "#multilevel ()"
   ]
  },
  {
   "cell_type": "code",
   "execution_count": 36,
   "id": "be846a1d-827a-490b-aad0-b0468bfa3087",
   "metadata": {},
   "outputs": [],
   "source": [
    "class GrandFather: #superclass\n",
    "    def land_property(self):\n",
    "        print('land property!!')\n",
    "\n",
    "class Father(GrandFather): #subclass\n",
    "    def bank_balance(self):\n",
    "        print('big money player,huge bank balance')\n",
    "\n",
    "class son(Father):\n",
    "    def political_power(self): #subclass\n",
    "        print('political powers')\n",
    "\n",
    "class grandson(son):#subclass\n",
    "    def mind(self):\n",
    "        print('mind for self study')\n",
    "\n",
    "class Friend(grandson):#subclass\n",
    "    def __init__(self):\n",
    "        print('nothing')"
   ]
  },
  {
   "cell_type": "code",
   "execution_count": 37,
   "id": "07a305fe-9664-4a4c-9c21-db7ff8ef1fb0",
   "metadata": {},
   "outputs": [
    {
     "name": "stdout",
     "output_type": "stream",
     "text": [
      "done\n"
     ]
    }
   ],
   "source": [
    "aman = grandson()\n",
    "print('done')"
   ]
  },
  {
   "cell_type": "code",
   "execution_count": 38,
   "id": "791d2934-5671-4934-8482-eba6a25a9e53",
   "metadata": {},
   "outputs": [
    {
     "name": "stdout",
     "output_type": "stream",
     "text": [
      "land property!!\n"
     ]
    }
   ],
   "source": [
    "aman.land_property()"
   ]
  },
  {
   "cell_type": "code",
   "execution_count": 39,
   "id": "e9c3224f-31ef-4e24-a375-994949205d86",
   "metadata": {},
   "outputs": [
    {
     "name": "stdout",
     "output_type": "stream",
     "text": [
      "mind for self study\n"
     ]
    }
   ],
   "source": [
    "aman.mind()"
   ]
  },
  {
   "cell_type": "code",
   "execution_count": 41,
   "id": "c624da6e-a3a9-4a55-b12d-9d112df6965e",
   "metadata": {},
   "outputs": [
    {
     "name": "stdout",
     "output_type": "stream",
     "text": [
      "nothing\n"
     ]
    }
   ],
   "source": [
    "karan = Friend()"
   ]
  },
  {
   "cell_type": "code",
   "execution_count": 42,
   "id": "ef0b1dd1-b91f-4572-be56-85550d4cc9f2",
   "metadata": {},
   "outputs": [
    {
     "name": "stdout",
     "output_type": "stream",
     "text": [
      "big money player,huge bank balance\n"
     ]
    }
   ],
   "source": [
    "karan.bank_balance()"
   ]
  },
  {
   "cell_type": "code",
   "execution_count": 43,
   "id": "97f90a6e-3232-4460-a76c-1e9e1daff85d",
   "metadata": {},
   "outputs": [],
   "source": [
    "#hybrid ( contains all single,multilevel,multiple)"
   ]
  },
  {
   "cell_type": "code",
   "execution_count": 44,
   "id": "31d694cc-ffdd-46f2-9253-ee34b0f584df",
   "metadata": {},
   "outputs": [],
   "source": [
    "class Hybrid_class( Mobile , Friend , Audi ): # mobile - multiple , friend - multilevel , audi - simple \n",
    "    def __init__(self):  # fixed object that doesn't chnage so we  used init function \n",
    "        print('this is the hybrid class')\n",
    "\n",
    "    def info(self:\n",
    "    print('it can call any methods')"
   ]
  },
  {
   "cell_type": "code",
   "execution_count": 45,
   "id": "6e84390a-d8d5-4bfa-aaf0-66bdf4707e73",
   "metadata": {},
   "outputs": [
    {
     "name": "stdout",
     "output_type": "stream",
     "text": [
      "this is the hybrid class\n"
     ]
    }
   ],
   "source": [
    "ob = Hybrid_class()"
   ]
  },
  {
   "cell_type": "code",
   "execution_count": 46,
   "id": "f8a233bd-eaf1-4a3b-b93c-836290ff08a7",
   "metadata": {},
   "outputs": [
    {
     "name": "stdout",
     "output_type": "stream",
     "text": [
      "actual charger from mobile\n"
     ]
    }
   ],
   "source": [
    "ob.charger()"
   ]
  },
  {
   "cell_type": "code",
   "execution_count": 47,
   "id": "19ff7107-b14f-4c28-aed7-cfd3325b6426",
   "metadata": {},
   "outputs": [],
   "source": [
    "#hierarichal inheritance ( multiple base class inherit one single parent class)"
   ]
  },
  {
   "cell_type": "code",
   "execution_count": 48,
   "id": "b14fac56-7b4d-45ff-b01e-ef28256eb5f3",
   "metadata": {},
   "outputs": [],
   "source": [
    "class UGC:\n",
    "    def __init__(Self):\n",
    "        print('grant permission')\n",
    "    def college_approved(self):\n",
    "        print('college has been approved')\n",
    "\n",
    "class DU(UGC):\n",
    "    def multiple_colleges(self):\n",
    "        print('list of colleges')\n",
    "\n",
    "class IP(UGC):\n",
    "    def multiple_colleges(self):\n",
    "        print('list of colleges')\n",
    "\n",
    "class DTU(UGC):\n",
    "    def multiple_colleges(self):\n",
    "        print('list of colleges')\n",
    "\n",
    "class BHU(UGC):\n",
    "      def multiple_colleges(self):\n",
    "        print('list of colleges')"
   ]
  },
  {
   "cell_type": "code",
   "execution_count": 49,
   "id": "79556741-9ace-4b58-af5e-3e5030cb73ee",
   "metadata": {},
   "outputs": [],
   "source": [
    "#poly ( single entity) morphism (more than one forms)"
   ]
  },
  {
   "cell_type": "code",
   "execution_count": 55,
   "id": "5be91ac7-4683-4242-96b7-8e1ddee8bc3c",
   "metadata": {},
   "outputs": [
    {
     "data": {
      "text/plain": [
       "3"
      ]
     },
     "execution_count": 55,
     "metadata": {},
     "output_type": "execute_result"
    }
   ],
   "source": [
    "def ste(a):\n",
    "    return str\n",
    "a= str(576)\n",
    "len(a)"
   ]
  },
  {
   "cell_type": "code",
   "execution_count": 56,
   "id": "a381df37-e2ed-4101-af97-e54aaf7ca0c3",
   "metadata": {},
   "outputs": [],
   "source": [
    "# overriding , overloading "
   ]
  },
  {
   "cell_type": "code",
   "execution_count": 60,
   "id": "edaf54a2-538b-4fee-8535-e4efa8f80474",
   "metadata": {},
   "outputs": [
    {
     "name": "stdout",
     "output_type": "stream",
     "text": [
      "f1 car speed: max speed 200 km/hr\n",
      "f1 car speed: max speed 250 km/hr\n",
      "f1 car speed: max speed 300 km/hr\n"
     ]
    }
   ],
   "source": [
    "class Car:\n",
    "    def speed(self):  # override  \n",
    "        return('max speed 200 km/hr')\n",
    "\n",
    "    def auto_pilot(self):\n",
    "        return('it supports auto_pilot mode')\n",
    "\n",
    "    def info(self):\n",
    "        return('this is just a car object')\n",
    "\n",
    "class Bmw(Car):\n",
    "    def speed(self): #override \n",
    "        return('max speed 250 km/hr')\n",
    "\n",
    "    def info(self):\n",
    "        return(' a bmw  car object')\n",
    "\n",
    "class Audi(Car):\n",
    "    def speed(self):\n",
    "        return('max speed 300 km/hr')\n",
    "\n",
    "    def info(self):\n",
    "        return('a audi  car object')\n",
    "\n",
    "for i in [Car,Bmw,Audi]:\n",
    "    f1 = i()\n",
    "    print('f1 car speed:',f1.speed())\n",
    "    "
   ]
  },
  {
   "cell_type": "code",
   "execution_count": 62,
   "id": "570e9623-6c54-45d0-8dfe-5edc4ea0ca85",
   "metadata": {},
   "outputs": [
    {
     "name": "stdout",
     "output_type": "stream",
     "text": [
      "max speed 200 km/hr\n"
     ]
    }
   ],
   "source": [
    "f1 = Car()\n",
    "print(f1.speed())"
   ]
  },
  {
   "cell_type": "code",
   "execution_count": 69,
   "id": "99948a1a-bbdc-4e93-9b9e-f2940b9a7a1e",
   "metadata": {},
   "outputs": [
    {
     "name": "stdout",
     "output_type": "stream",
     "text": [
      "hello nitin,how are you??\n",
      "your address is delhi\n"
     ]
    }
   ],
   "source": [
    "class IITM:\n",
    "    def intro(self):\n",
    "        print('hello candidates')\n",
    "\n",
    "    def intro(self,name):\n",
    "        print(f'hello {name},how are you??')\n",
    "\n",
    "    def intro(self,name,address):\n",
    "        print(f'hello {name},how are you??')\n",
    "        print(f'your address is {address}')\n",
    "         \n",
    "\n",
    "a = IITM()\n",
    "\n",
    "a.intro('nitin','delhi')\n"
   ]
  },
  {
   "cell_type": "code",
   "execution_count": 82,
   "id": "ac36d254-1b1b-4ef5-9b94-ac51cbcd27a4",
   "metadata": {},
   "outputs": [],
   "source": [
    "class IITM:\n",
    "    def intro (self,name = None ,address = None) : # method overload  using ( @ ) also to override \n",
    "        if (name == None) and (address== None):\n",
    "            print('hello candidates')\n",
    "       \n",
    "        elif (name != None) and (address == None) : \n",
    "            print(f'hello {name},how are you??')\n",
    "\n",
    "        elif (name!= None) and (address!=None):\n",
    "            print(f'hello {name},how are you??')\n",
    "            print(f'your address is {address}')\n",
    "\n",
    "        else:\n",
    "            print('hello buddy')\n"
   ]
  },
  {
   "cell_type": "code",
   "execution_count": 84,
   "id": "50ddc3ef-4637-4fa0-9c35-da131a01cb96",
   "metadata": {},
   "outputs": [
    {
     "name": "stdout",
     "output_type": "stream",
     "text": [
      "hello buddy\n"
     ]
    }
   ],
   "source": [
    "a = IITM()\n",
    "a.intro(address = 'noida')"
   ]
  },
  {
   "cell_type": "code",
   "execution_count": 85,
   "id": "2ec698e2-d1f0-4062-bda3-5618bab1efbb",
   "metadata": {},
   "outputs": [
    {
     "name": "stdout",
     "output_type": "stream",
     "text": [
      "hello lucky,how are you??\n"
     ]
    }
   ],
   "source": [
    "a.intro('lucky')"
   ]
  },
  {
   "cell_type": "markdown",
   "id": "a4afc703-ca21-46a6-9293-47b1681568ed",
   "metadata": {},
   "source": [
    "# abstraction"
   ]
  },
  {
   "cell_type": "code",
   "execution_count": 86,
   "id": "bf09cbf4-6e90-4bea-b1d4-cca587876064",
   "metadata": {},
   "outputs": [],
   "source": [
    "  # idea : blue print  , not a physical object , project managemnent "
   ]
  },
  {
   "cell_type": "code",
   "execution_count": 90,
   "id": "7d6a305d-a865-4cc6-ab6b-574866feedba",
   "metadata": {},
   "outputs": [
    {
     "ename": "TypeError",
     "evalue": "Can't instantiate abstract class Website without an implementation for abstract methods 'login', 'logout'",
     "output_type": "error",
     "traceback": [
      "\u001b[1;31m---------------------------------------------------------------------------\u001b[0m",
      "\u001b[1;31mTypeError\u001b[0m                                 Traceback (most recent call last)",
      "Cell \u001b[1;32mIn[90], line 14\u001b[0m\n\u001b[0;32m     10\u001b[0m     \u001b[38;5;129m@abstractmethod\u001b[39m\n\u001b[0;32m     11\u001b[0m     \u001b[38;5;28;01mdef\u001b[39;00m\u001b[38;5;250m \u001b[39m\u001b[38;5;21mlogout\u001b[39m(\u001b[38;5;28mself\u001b[39m):\n\u001b[0;32m     12\u001b[0m         \u001b[38;5;28mprint\u001b[39m(\u001b[38;5;124m'\u001b[39m\u001b[38;5;124ma logout method\u001b[39m\u001b[38;5;124m'\u001b[39m)\n\u001b[1;32m---> 14\u001b[0m asus \u001b[38;5;241m=\u001b[39m Website()\n\u001b[0;32m     15\u001b[0m \u001b[38;5;28mprint\u001b[39m(\u001b[38;5;124m'\u001b[39m\u001b[38;5;124mdone\u001b[39m\u001b[38;5;124m'\u001b[39m)\n",
      "\u001b[1;31mTypeError\u001b[0m: Can't instantiate abstract class Website without an implementation for abstract methods 'login', 'logout'"
     ]
    }
   ],
   "source": [
    "from abc import ABC , abstractmethod  # abc - module , ABC - class\n",
    "\n",
    "class Website(ABC):\n",
    "\n",
    "    @abstractmethod\n",
    "    def login(self):\n",
    "        print('this is a logicall method')\n",
    "\n",
    "        \n",
    "    @abstractmethod\n",
    "    def logout(self):\n",
    "        print('a logout method')\n",
    "\n",
    "asus = Website()\n",
    "print('done')"
   ]
  },
  {
   "cell_type": "code",
   "execution_count": 95,
   "id": "d7a5d9ef-6401-4288-905b-c1be0a754417",
   "metadata": {},
   "outputs": [],
   "source": [
    "class Nitin(Website):\n",
    " \n",
    "    def signup(self):\n",
    "        print('user can sign up')\n",
    "\n",
    "    def login(self):\n",
    "        print('this is a login method')\n",
    "\n",
    "    def logout(self):\n",
    "        print('a logout method')\n",
    "\n",
    "\n",
    "google = Nitin()\n",
    "    "
   ]
  },
  {
   "cell_type": "code",
   "execution_count": 96,
   "id": "7a2a3e6f-085f-4f00-82f1-c6abd5e45c67",
   "metadata": {},
   "outputs": [
    {
     "name": "stdout",
     "output_type": "stream",
     "text": [
      "user can sign up\n"
     ]
    }
   ],
   "source": [
    "google.signup()\n"
   ]
  },
  {
   "cell_type": "code",
   "execution_count": 97,
   "id": "5ba6d4b7-0242-4a1a-83da-db920526707f",
   "metadata": {},
   "outputs": [
    {
     "name": "stdout",
     "output_type": "stream",
     "text": [
      "a logout method\n"
     ]
    }
   ],
   "source": [
    "google.logout()"
   ]
  },
  {
   "cell_type": "code",
   "execution_count": 98,
   "id": "3a1e63a4-728a-4801-b3a7-5f233c81af7a",
   "metadata": {},
   "outputs": [
    {
     "name": "stdout",
     "output_type": "stream",
     "text": [
      "this is a login method\n"
     ]
    }
   ],
   "source": [
    "google.login()"
   ]
  },
  {
   "cell_type": "code",
   "execution_count": null,
   "id": "04fefe17-f5c4-48c4-bcb1-c5ef03160be8",
   "metadata": {},
   "outputs": [],
   "source": []
  }
 ],
 "metadata": {
  "kernelspec": {
   "display_name": "Python [conda env:anaconda3] *",
   "language": "python",
   "name": "conda-env-anaconda3-py"
  },
  "language_info": {
   "codemirror_mode": {
    "name": "ipython",
    "version": 3
   },
   "file_extension": ".py",
   "mimetype": "text/x-python",
   "name": "python",
   "nbconvert_exporter": "python",
   "pygments_lexer": "ipython3",
   "version": "3.13.5"
  }
 },
 "nbformat": 4,
 "nbformat_minor": 5
}
